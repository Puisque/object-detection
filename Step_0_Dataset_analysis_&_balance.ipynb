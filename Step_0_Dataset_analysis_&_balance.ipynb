{
  "nbformat": 4,
  "nbformat_minor": 0,
  "metadata": {
    "colab": {
      "name": "Step 0 - Dataset analysis & balance.ipynb",
      "provenance": [],
      "collapsed_sections": [],
      "toc_visible": true,
      "include_colab_link": true
    },
    "kernelspec": {
      "name": "python3",
      "display_name": "Python 3"
    }
  },
  "cells": [
    {
      "cell_type": "markdown",
      "metadata": {
        "id": "view-in-github",
        "colab_type": "text"
      },
      "source": [
        "<a href=\"https://colab.research.google.com/github/Puisque/object-natural-scenes-detection/blob/main/Step_0_Dataset_analysis_%26_balance.ipynb\" target=\"_parent\"><img src=\"https://colab.research.google.com/assets/colab-badge.svg\" alt=\"Open In Colab\"/></a>"
      ]
    },
    {
      "cell_type": "code",
      "metadata": {
        "id": "vbLPDUojVLuJ"
      },
      "source": [
        "from google.colab import files\r\n",
        "\r\n",
        "import torchvision\r\n",
        "import numpy as np\r\n",
        "import pandas as pd"
      ],
      "execution_count": null,
      "outputs": []
    },
    {
      "cell_type": "code",
      "metadata": {
        "colab": {
          "base_uri": "https://localhost:8080/"
        },
        "id": "zDvkc9pEVU6F",
        "outputId": "ee1bc0ea-c521-421b-c281-403660eb0526"
      },
      "source": [
        "from google.colab import drive\r\n",
        "drive.mount('/content/gdrive')"
      ],
      "execution_count": null,
      "outputs": [
        {
          "output_type": "stream",
          "text": [
            "Mounted at /content/gdrive\n"
          ],
          "name": "stdout"
        }
      ]
    },
    {
      "cell_type": "markdown",
      "metadata": {
        "id": "t2yMvlMMeTfx"
      },
      "source": [
        "## **Overview**\r\n",
        "Step:\r\n",
        "1. Download a csv file that contains information of each image **to local machine**\r\n",
        "2. Upload the csv file to /content/gdrive/MyDrive/Capstone/Code \r\n",
        "3. Analyze the dataset based on the csv file"
      ]
    },
    {
      "cell_type": "markdown",
      "metadata": {
        "id": "Y2jpONNXZMCg"
      },
      "source": [
        "## **Preparation**\r\n",
        "\r\n",
        "Download a csv file that contains information of each image to local machine\r\n",
        "\r\n"
      ]
    },
    {
      "cell_type": "code",
      "metadata": {
        "id": "Oi1j3N-4VgOr"
      },
      "source": [
        "image_path = '/content/gdrive/MyDrive/Capstone/Code/natural scene dataset'\r\n",
        "file_name_total = 'Nature Scene Dataset Analysis Result.csv'"
      ],
      "execution_count": null,
      "outputs": []
    },
    {
      "cell_type": "code",
      "metadata": {
        "colab": {
          "base_uri": "https://localhost:8080/",
          "height": 340
        },
        "id": "971dqABaSbFO",
        "outputId": "422b8148-a096-4a45-8ad1-6a15e88fe4d6"
      },
      "source": [
        "#Load images \r\n",
        "nature_scene__dataset = torchvision.datasets.ImageFolder(root=image_path)\r\n",
        "print(len(nature_scene__dataset.samples))"
      ],
      "execution_count": null,
      "outputs": [
        {
          "output_type": "error",
          "ename": "FileNotFoundError",
          "evalue": "ignored",
          "traceback": [
            "\u001b[0;31m---------------------------------------------------------------------------\u001b[0m",
            "\u001b[0;31mFileNotFoundError\u001b[0m                         Traceback (most recent call last)",
            "\u001b[0;32m<ipython-input-6-1d4ffa265c9d>\u001b[0m in \u001b[0;36m<module>\u001b[0;34m()\u001b[0m\n\u001b[1;32m      1\u001b[0m \u001b[0;31m#Load images\u001b[0m\u001b[0;34m\u001b[0m\u001b[0;34m\u001b[0m\u001b[0;34m\u001b[0m\u001b[0m\n\u001b[0;32m----> 2\u001b[0;31m \u001b[0mnature_scene__dataset\u001b[0m \u001b[0;34m=\u001b[0m \u001b[0mtorchvision\u001b[0m\u001b[0;34m.\u001b[0m\u001b[0mdatasets\u001b[0m\u001b[0;34m.\u001b[0m\u001b[0mImageFolder\u001b[0m\u001b[0;34m(\u001b[0m\u001b[0mroot\u001b[0m\u001b[0;34m=\u001b[0m\u001b[0mimage_path\u001b[0m\u001b[0;34m)\u001b[0m\u001b[0;34m\u001b[0m\u001b[0;34m\u001b[0m\u001b[0m\n\u001b[0m\u001b[1;32m      3\u001b[0m \u001b[0mprint\u001b[0m\u001b[0;34m(\u001b[0m\u001b[0mlen\u001b[0m\u001b[0;34m(\u001b[0m\u001b[0mnature_scene__dataset\u001b[0m\u001b[0;34m.\u001b[0m\u001b[0msamples\u001b[0m\u001b[0;34m)\u001b[0m\u001b[0;34m)\u001b[0m\u001b[0;34m\u001b[0m\u001b[0;34m\u001b[0m\u001b[0m\n",
            "\u001b[0;32m/usr/local/lib/python3.6/dist-packages/torchvision/datasets/folder.py\u001b[0m in \u001b[0;36m__init__\u001b[0;34m(self, root, transform, target_transform, loader, is_valid_file)\u001b[0m\n\u001b[1;32m    227\u001b[0m                                           \u001b[0mtransform\u001b[0m\u001b[0;34m=\u001b[0m\u001b[0mtransform\u001b[0m\u001b[0;34m,\u001b[0m\u001b[0;34m\u001b[0m\u001b[0;34m\u001b[0m\u001b[0m\n\u001b[1;32m    228\u001b[0m                                           \u001b[0mtarget_transform\u001b[0m\u001b[0;34m=\u001b[0m\u001b[0mtarget_transform\u001b[0m\u001b[0;34m,\u001b[0m\u001b[0;34m\u001b[0m\u001b[0;34m\u001b[0m\u001b[0m\n\u001b[0;32m--> 229\u001b[0;31m                                           is_valid_file=is_valid_file)\n\u001b[0m\u001b[1;32m    230\u001b[0m         \u001b[0mself\u001b[0m\u001b[0;34m.\u001b[0m\u001b[0mimgs\u001b[0m \u001b[0;34m=\u001b[0m \u001b[0mself\u001b[0m\u001b[0;34m.\u001b[0m\u001b[0msamples\u001b[0m\u001b[0;34m\u001b[0m\u001b[0;34m\u001b[0m\u001b[0m\n",
            "\u001b[0;32m/usr/local/lib/python3.6/dist-packages/torchvision/datasets/folder.py\u001b[0m in \u001b[0;36m__init__\u001b[0;34m(self, root, loader, extensions, transform, target_transform, is_valid_file)\u001b[0m\n\u001b[1;32m    106\u001b[0m         super(DatasetFolder, self).__init__(root, transform=transform,\n\u001b[1;32m    107\u001b[0m                                             target_transform=target_transform)\n\u001b[0;32m--> 108\u001b[0;31m         \u001b[0mclasses\u001b[0m\u001b[0;34m,\u001b[0m \u001b[0mclass_to_idx\u001b[0m \u001b[0;34m=\u001b[0m \u001b[0mself\u001b[0m\u001b[0;34m.\u001b[0m\u001b[0m_find_classes\u001b[0m\u001b[0;34m(\u001b[0m\u001b[0mself\u001b[0m\u001b[0;34m.\u001b[0m\u001b[0mroot\u001b[0m\u001b[0;34m)\u001b[0m\u001b[0;34m\u001b[0m\u001b[0;34m\u001b[0m\u001b[0m\n\u001b[0m\u001b[1;32m    109\u001b[0m         \u001b[0msamples\u001b[0m \u001b[0;34m=\u001b[0m \u001b[0mmake_dataset\u001b[0m\u001b[0;34m(\u001b[0m\u001b[0mself\u001b[0m\u001b[0;34m.\u001b[0m\u001b[0mroot\u001b[0m\u001b[0;34m,\u001b[0m \u001b[0mclass_to_idx\u001b[0m\u001b[0;34m,\u001b[0m \u001b[0mextensions\u001b[0m\u001b[0;34m,\u001b[0m \u001b[0mis_valid_file\u001b[0m\u001b[0;34m)\u001b[0m\u001b[0;34m\u001b[0m\u001b[0;34m\u001b[0m\u001b[0m\n\u001b[1;32m    110\u001b[0m         \u001b[0;32mif\u001b[0m \u001b[0mlen\u001b[0m\u001b[0;34m(\u001b[0m\u001b[0msamples\u001b[0m\u001b[0;34m)\u001b[0m \u001b[0;34m==\u001b[0m \u001b[0;36m0\u001b[0m\u001b[0;34m:\u001b[0m\u001b[0;34m\u001b[0m\u001b[0;34m\u001b[0m\u001b[0m\n",
            "\u001b[0;32m/usr/local/lib/python3.6/dist-packages/torchvision/datasets/folder.py\u001b[0m in \u001b[0;36m_find_classes\u001b[0;34m(self, dir)\u001b[0m\n\u001b[1;32m    135\u001b[0m             \u001b[0mNo\u001b[0m \u001b[0;32mclass\u001b[0m \u001b[0;32mis\u001b[0m \u001b[0ma\u001b[0m \u001b[0msubdirectory\u001b[0m \u001b[0mof\u001b[0m \u001b[0manother\u001b[0m\u001b[0;34m.\u001b[0m\u001b[0;34m\u001b[0m\u001b[0;34m\u001b[0m\u001b[0m\n\u001b[1;32m    136\u001b[0m         \"\"\"\n\u001b[0;32m--> 137\u001b[0;31m         \u001b[0mclasses\u001b[0m \u001b[0;34m=\u001b[0m \u001b[0;34m[\u001b[0m\u001b[0md\u001b[0m\u001b[0;34m.\u001b[0m\u001b[0mname\u001b[0m \u001b[0;32mfor\u001b[0m \u001b[0md\u001b[0m \u001b[0;32min\u001b[0m \u001b[0mos\u001b[0m\u001b[0;34m.\u001b[0m\u001b[0mscandir\u001b[0m\u001b[0;34m(\u001b[0m\u001b[0mdir\u001b[0m\u001b[0;34m)\u001b[0m \u001b[0;32mif\u001b[0m \u001b[0md\u001b[0m\u001b[0;34m.\u001b[0m\u001b[0mis_dir\u001b[0m\u001b[0;34m(\u001b[0m\u001b[0;34m)\u001b[0m\u001b[0;34m]\u001b[0m\u001b[0;34m\u001b[0m\u001b[0;34m\u001b[0m\u001b[0m\n\u001b[0m\u001b[1;32m    138\u001b[0m         \u001b[0mclasses\u001b[0m\u001b[0;34m.\u001b[0m\u001b[0msort\u001b[0m\u001b[0;34m(\u001b[0m\u001b[0;34m)\u001b[0m\u001b[0;34m\u001b[0m\u001b[0;34m\u001b[0m\u001b[0m\n\u001b[1;32m    139\u001b[0m         \u001b[0mclass_to_idx\u001b[0m \u001b[0;34m=\u001b[0m \u001b[0;34m{\u001b[0m\u001b[0mcls_name\u001b[0m\u001b[0;34m:\u001b[0m \u001b[0mi\u001b[0m \u001b[0;32mfor\u001b[0m \u001b[0mi\u001b[0m\u001b[0;34m,\u001b[0m \u001b[0mcls_name\u001b[0m \u001b[0;32min\u001b[0m \u001b[0menumerate\u001b[0m\u001b[0;34m(\u001b[0m\u001b[0mclasses\u001b[0m\u001b[0;34m)\u001b[0m\u001b[0;34m}\u001b[0m\u001b[0;34m\u001b[0m\u001b[0;34m\u001b[0m\u001b[0m\n",
            "\u001b[0;31mFileNotFoundError\u001b[0m: [Errno 2] No such file or directory: '/content/gdrive/MyDrive/Capstone/Code/natural scene dataset'"
          ]
        }
      ]
    },
    {
      "cell_type": "code",
      "metadata": {
        "id": "xMCPVJd7VLQA"
      },
      "source": [
        "def download_data_to_csv(data_list,file_name):\r\n",
        "  name_list = np.asarray([each[0] for each in data_list.samples])\r\n",
        "  image_name = []\r\n",
        "  class_name =[]\r\n",
        "  folder = []\r\n",
        "  for eachPath in name_list:\r\n",
        "    image_name.append(eachPath.split('/')[-1])\r\n",
        "    class_name.append(eachPath.split('/')[-2])\r\n",
        "    folder.append(eachPath.split('/')[-3]) \r\n",
        "\r\n",
        "  #format\r\n",
        "  file_format =  pd.DataFrame({'name': image_name[:],'className':class_name[:],'folder':folder[:]})\r\n",
        "  file_format.astype({\"name\": str,'className': str,'folder':str})\r\n",
        "  \r\n",
        "  #download data to csv file\r\n",
        "  file_format.to_csv(file_name) \r\n",
        "  files.download(file_name)"
      ],
      "execution_count": null,
      "outputs": []
    },
    {
      "cell_type": "code",
      "metadata": {
        "colab": {
          "base_uri": "https://localhost:8080/",
          "height": 17
        },
        "id": "rg8HhSzPYkqj",
        "outputId": "7603aac8-5225-4bd8-a62a-88a266ac3ea2"
      },
      "source": [
        "download_data_to_csv(nature_scene__dataset,file_name_total)"
      ],
      "execution_count": null,
      "outputs": [
        {
          "output_type": "display_data",
          "data": {
            "application/javascript": [
              "\n",
              "    async function download(id, filename, size) {\n",
              "      if (!google.colab.kernel.accessAllowed) {\n",
              "        return;\n",
              "      }\n",
              "      const div = document.createElement('div');\n",
              "      const label = document.createElement('label');\n",
              "      label.textContent = `Downloading \"${filename}\": `;\n",
              "      div.appendChild(label);\n",
              "      const progress = document.createElement('progress');\n",
              "      progress.max = size;\n",
              "      div.appendChild(progress);\n",
              "      document.body.appendChild(div);\n",
              "\n",
              "      const buffers = [];\n",
              "      let downloaded = 0;\n",
              "\n",
              "      const channel = await google.colab.kernel.comms.open(id);\n",
              "      // Send a message to notify the kernel that we're ready.\n",
              "      channel.send({})\n",
              "\n",
              "      for await (const message of channel.messages) {\n",
              "        // Send a message to notify the kernel that we're ready.\n",
              "        channel.send({})\n",
              "        if (message.buffers) {\n",
              "          for (const buffer of message.buffers) {\n",
              "            buffers.push(buffer);\n",
              "            downloaded += buffer.byteLength;\n",
              "            progress.value = downloaded;\n",
              "          }\n",
              "        }\n",
              "      }\n",
              "      const blob = new Blob(buffers, {type: 'application/binary'});\n",
              "      const a = document.createElement('a');\n",
              "      a.href = window.URL.createObjectURL(blob);\n",
              "      a.download = filename;\n",
              "      div.appendChild(a);\n",
              "      a.click();\n",
              "      div.remove();\n",
              "    }\n",
              "  "
            ],
            "text/plain": [
              "<IPython.core.display.Javascript object>"
            ]
          },
          "metadata": {
            "tags": []
          }
        },
        {
          "output_type": "display_data",
          "data": {
            "application/javascript": [
              "download(\"download_c95ff57c-969c-4691-aa23-5a147cdf5d04\", \"Nature Scene Dataset Analysis Result.csv\", 484828)"
            ],
            "text/plain": [
              "<IPython.core.display.Javascript object>"
            ]
          },
          "metadata": {
            "tags": []
          }
        }
      ]
    },
    {
      "cell_type": "markdown",
      "metadata": {
        "id": "8MZeJZgPZHEk"
      },
      "source": [
        "## **Analysis - Before Balance**\r\n",
        "\r\n",
        "Analyze the nature scene dataset based on the csv file"
      ]
    },
    {
      "cell_type": "code",
      "metadata": {
        "id": "nHB1lUG1ZiwX"
      },
      "source": [
        "header = ['name','className','folder']"
      ],
      "execution_count": null,
      "outputs": []
    },
    {
      "cell_type": "code",
      "metadata": {
        "id": "uuuW6cPpZGj5"
      },
      "source": [
        "def data_analysis(fileName):\r\n",
        "  file = pd.read_csv(\r\n",
        "    \"/content/gdrive/MyDrive/Capstone/Code/\"+fileName,\r\n",
        "    usecols=header)\r\n",
        "  \r\n",
        "  table = file.groupby([file.folder,file.className])['name'].count() #group images by train/validation/test and its class\r\n",
        "  \r\n",
        "  return table"
      ],
      "execution_count": null,
      "outputs": []
    },
    {
      "cell_type": "code",
      "metadata": {
        "id": "yD70mmT-aJPu"
      },
      "source": [
        "data_table = data_analysis(file_name_total)"
      ],
      "execution_count": null,
      "outputs": []
    },
    {
      "cell_type": "code",
      "metadata": {
        "colab": {
          "base_uri": "https://localhost:8080/"
        },
        "id": "8F00sML6aliJ",
        "outputId": "108a570f-4cd0-4cd7-e91a-71f4e7947f56"
      },
      "source": [
        "data_table"
      ],
      "execution_count": null,
      "outputs": [
        {
          "output_type": "execute_result",
          "data": {
            "text/plain": [
              "folder      className\n",
              "test        buildings     442\n",
              "            forest        442\n",
              "            glacier       442\n",
              "            mountain      442\n",
              "            sea           442\n",
              "            street        442\n",
              "train       buildings    1749\n",
              "            forest       1829\n",
              "            glacier      1962\n",
              "            mountain     2070\n",
              "            sea          1832\n",
              "            street       1940\n",
              "validation  buildings     437\n",
              "            forest        474\n",
              "            glacier       553\n",
              "            mountain      525\n",
              "            sea           510\n",
              "            street        501\n",
              "Name: name, dtype: int64"
            ]
          },
          "metadata": {
            "tags": []
          },
          "execution_count": 14
        }
      ]
    },
    {
      "cell_type": "markdown",
      "metadata": {
        "id": "5s-KVjY7fAAa"
      },
      "source": [
        "## **Balance Dataset - One-time movement**\r\n",
        "\r\n",
        "Suggested approach: \r\n",
        "1. Perform file movement in **one folder**(train/validation/test) at one time\r\n",
        "2. If we want to make all classes have the same number of samples, the **`num_samples_{}`** hould be equal to the number of samples of the smallest class\r\n",
        "\r\n",
        "Note: **Before careful in running the below cells**, or it might leads to duplicate movement"
      ]
    },
    {
      "cell_type": "code",
      "metadata": {
        "id": "FOunVkuEui0A"
      },
      "source": [
        "import shutil \r\n",
        "import random"
      ],
      "execution_count": null,
      "outputs": []
    },
    {
      "cell_type": "code",
      "metadata": {
        "id": "B2CDWL6OtOek"
      },
      "source": [
        "storage_path = '/content/gdrive/MyDrive/Capstone/Code/dataset storage bin/'"
      ],
      "execution_count": null,
      "outputs": []
    },
    {
      "cell_type": "code",
      "metadata": {
        "colab": {
          "base_uri": "https://localhost:8080/"
        },
        "id": "QoN7Ct9wqcVZ",
        "outputId": "36ccb9fd-11fb-4df3-dc45-82d6cad790ff"
      },
      "source": [
        "#Train set\r\n",
        "\r\n",
        "train_dict = data_table['train'].to_dict()\r\n",
        "print(train_dict)\r\n",
        "num_samples_train = min(train_dict.values())\r\n",
        "print('min = ',num_samples_train)"
      ],
      "execution_count": null,
      "outputs": [
        {
          "output_type": "stream",
          "text": [
            "{'buildings': 1749, 'forest': 1829, 'glacier': 1962, 'mountain': 2070, 'sea': 1832, 'street': 1940}\n",
            "min =  1749\n"
          ],
          "name": "stdout"
        }
      ]
    },
    {
      "cell_type": "code",
      "metadata": {
        "colab": {
          "base_uri": "https://localhost:8080/"
        },
        "id": "80mC1WpvMh0a",
        "outputId": "850d4d51-369f-4946-aeea-c0f273b632e0"
      },
      "source": [
        "#Validation set\r\n",
        "\r\n",
        "val_dict = data_table['validation'].to_dict()\r\n",
        "print(val_dict)\r\n",
        "num_samples_val = min(val_dict.values())\r\n",
        "print('min = ',num_samples_val)"
      ],
      "execution_count": null,
      "outputs": [
        {
          "output_type": "stream",
          "text": [
            "{'buildings': 437, 'forest': 474, 'glacier': 553, 'mountain': 525, 'sea': 510, 'street': 501}\n",
            "min =  437\n"
          ],
          "name": "stdout"
        }
      ]
    },
    {
      "cell_type": "code",
      "metadata": {
        "id": "WTizq9_xjeCE"
      },
      "source": [
        "nature_scene__dataset_train = torchvision.datasets.ImageFolder(root='/content/gdrive/MyDrive/Capstone/Code/natural scene dataset /natural scene/train')"
      ],
      "execution_count": null,
      "outputs": []
    },
    {
      "cell_type": "code",
      "metadata": {
        "id": "-Cuj54KaNdY0"
      },
      "source": [
        "nature_scene__dataset_val = torchvision.datasets.ImageFolder(root='/content/gdrive/MyDrive/Capstone/Code/natural scene dataset /natural scene/validation')"
      ],
      "execution_count": null,
      "outputs": []
    },
    {
      "cell_type": "code",
      "metadata": {
        "id": "d4CR3Sy6sY2Z"
      },
      "source": [
        "#lists of image(file) name\r\n",
        "train_nameList = nature_scene__dataset_train.samples\r\n",
        "val_nameList = nature_scene__dataset_val.samples"
      ],
      "execution_count": null,
      "outputs": []
    },
    {
      "cell_type": "markdown",
      "metadata": {
        "id": "CQi44d9ggECQ"
      },
      "source": [
        "### Balance the **train** folder"
      ]
    },
    {
      "cell_type": "code",
      "metadata": {
        "colab": {
          "base_uri": "https://localhost:8080/"
        },
        "id": "Wsdy-riSraAA",
        "outputId": "78a8caac-5d83-4cb8-c65e-52000922aad2"
      },
      "source": [
        "for class_name, count in train_dict.items():\r\n",
        "  print('Moving image in [ {} ] folder, current count = {}'.format(class_name,count))\r\n",
        "\r\n",
        "  move_count = count -  num_samples_train\r\n",
        "\r\n",
        "  print('Plan to move {} images'.format(move_count))\r\n",
        "\r\n",
        "  while move_count !=0:\r\n",
        "    selectedFile = random.choice(train_nameList) # randomly choose which image to move out\r\n",
        "    folder_name = selectedFile[0].split('/')[-2]\r\n",
        "    if folder_name == class_name:\r\n",
        "      try:\r\n",
        "        shutil.move(selectedFile[0],storage_path + folder_name)\r\n",
        "        move_count -=1\r\n",
        "      except Exception as e:\r\n",
        "          print(e)\r\n",
        "  \r\n",
        "  print('Complete image movement in [ {} ] folder.'.format(class_name))\r\n",
        "  print('---------------------------------------')\r\n"
      ],
      "execution_count": null,
      "outputs": [
        {
          "output_type": "stream",
          "text": [
            "Moving image in [ buildings ] folder, current count = 1749\n",
            "Plan to move 0 images\n",
            "Complete image movement in [ buildings ] folder.\n",
            "---------------------------------------\n",
            "Moving image in [ forest ] folder, current count = 1829\n",
            "Plan to move 80 images\n",
            "Complete image movement in [ forest ] folder.\n",
            "---------------------------------------\n",
            "Moving image in [ glacier ] folder, current count = 1962\n",
            "Plan to move 213 images\n",
            "Destination path '/content/gdrive/MyDrive/Capstone/Code/dataset storage bin/glacier/4952.png' already exists\n",
            "Destination path '/content/gdrive/MyDrive/Capstone/Code/dataset storage bin/glacier/4800.png' already exists\n",
            "Destination path '/content/gdrive/MyDrive/Capstone/Code/dataset storage bin/glacier/5330.png' already exists\n",
            "Destination path '/content/gdrive/MyDrive/Capstone/Code/dataset storage bin/glacier/5059.png' already exists\n",
            "Destination path '/content/gdrive/MyDrive/Capstone/Code/dataset storage bin/glacier/4402.png' already exists\n",
            "Destination path '/content/gdrive/MyDrive/Capstone/Code/dataset storage bin/glacier/5433.png' already exists\n",
            "Destination path '/content/gdrive/MyDrive/Capstone/Code/dataset storage bin/glacier/5069.png' already exists\n",
            "Destination path '/content/gdrive/MyDrive/Capstone/Code/dataset storage bin/glacier/3595.png' already exists\n",
            "Destination path '/content/gdrive/MyDrive/Capstone/Code/dataset storage bin/glacier/4398.png' already exists\n",
            "Destination path '/content/gdrive/MyDrive/Capstone/Code/dataset storage bin/glacier/5351.png' already exists\n",
            "Destination path '/content/gdrive/MyDrive/Capstone/Code/dataset storage bin/glacier/5181.png' already exists\n",
            "Destination path '/content/gdrive/MyDrive/Capstone/Code/dataset storage bin/glacier/4381.png' already exists\n",
            "Destination path '/content/gdrive/MyDrive/Capstone/Code/dataset storage bin/glacier/4101.png' already exists\n",
            "Complete image movement in [ glacier ] folder.\n",
            "---------------------------------------\n",
            "Moving image in [ mountain ] folder, current count = 2070\n",
            "Plan to move 321 images\n",
            "Destination path '/content/gdrive/MyDrive/Capstone/Code/dataset storage bin/mountain/6167.png' already exists\n",
            "Destination path '/content/gdrive/MyDrive/Capstone/Code/dataset storage bin/mountain/6723.png' already exists\n",
            "Destination path '/content/gdrive/MyDrive/Capstone/Code/dataset storage bin/mountain/5908.png' already exists\n",
            "Destination path '/content/gdrive/MyDrive/Capstone/Code/dataset storage bin/mountain/5796.png' already exists\n",
            "Destination path '/content/gdrive/MyDrive/Capstone/Code/dataset storage bin/mountain/5837.png' already exists\n",
            "Destination path '/content/gdrive/MyDrive/Capstone/Code/dataset storage bin/mountain/7295.png' already exists\n",
            "Destination path '/content/gdrive/MyDrive/Capstone/Code/dataset storage bin/mountain/6633.png' already exists\n",
            "Destination path '/content/gdrive/MyDrive/Capstone/Code/dataset storage bin/mountain/7292.png' already exists\n",
            "Destination path '/content/gdrive/MyDrive/Capstone/Code/dataset storage bin/mountain/7395.png' already exists\n",
            "Destination path '/content/gdrive/MyDrive/Capstone/Code/dataset storage bin/mountain/6814.png' already exists\n",
            "Destination path '/content/gdrive/MyDrive/Capstone/Code/dataset storage bin/mountain/7325.png' already exists\n",
            "Destination path '/content/gdrive/MyDrive/Capstone/Code/dataset storage bin/mountain/6823.png' already exists\n",
            "Destination path '/content/gdrive/MyDrive/Capstone/Code/dataset storage bin/mountain/5837.png' already exists\n",
            "Destination path '/content/gdrive/MyDrive/Capstone/Code/dataset storage bin/mountain/5708.png' already exists\n",
            "Destination path '/content/gdrive/MyDrive/Capstone/Code/dataset storage bin/mountain/7292.png' already exists\n",
            "Destination path '/content/gdrive/MyDrive/Capstone/Code/dataset storage bin/mountain/6978.png' already exists\n",
            "Destination path '/content/gdrive/MyDrive/Capstone/Code/dataset storage bin/mountain/7026.png' already exists\n",
            "Destination path '/content/gdrive/MyDrive/Capstone/Code/dataset storage bin/mountain/6814.png' already exists\n",
            "Destination path '/content/gdrive/MyDrive/Capstone/Code/dataset storage bin/mountain/6743.png' already exists\n",
            "Destination path '/content/gdrive/MyDrive/Capstone/Code/dataset storage bin/mountain/6837.png' already exists\n",
            "Destination path '/content/gdrive/MyDrive/Capstone/Code/dataset storage bin/mountain/6991.png' already exists\n",
            "Destination path '/content/gdrive/MyDrive/Capstone/Code/dataset storage bin/mountain/6902.png' already exists\n",
            "Destination path '/content/gdrive/MyDrive/Capstone/Code/dataset storage bin/mountain/6566.png' already exists\n",
            "Destination path '/content/gdrive/MyDrive/Capstone/Code/dataset storage bin/mountain/7569.png' already exists\n",
            "Destination path '/content/gdrive/MyDrive/Capstone/Code/dataset storage bin/mountain/7455.png' already exists\n",
            "Destination path '/content/gdrive/MyDrive/Capstone/Code/dataset storage bin/mountain/5644.png' already exists\n",
            "Destination path '/content/gdrive/MyDrive/Capstone/Code/dataset storage bin/mountain/6005.png' already exists\n",
            "Destination path '/content/gdrive/MyDrive/Capstone/Code/dataset storage bin/mountain/6447.png' already exists\n",
            "Destination path '/content/gdrive/MyDrive/Capstone/Code/dataset storage bin/mountain/6151.png' already exists\n",
            "Destination path '/content/gdrive/MyDrive/Capstone/Code/dataset storage bin/mountain/5829.png' already exists\n",
            "Destination path '/content/gdrive/MyDrive/Capstone/Code/dataset storage bin/mountain/6889.png' already exists\n",
            "Destination path '/content/gdrive/MyDrive/Capstone/Code/dataset storage bin/mountain/6325.png' already exists\n",
            "Destination path '/content/gdrive/MyDrive/Capstone/Code/dataset storage bin/mountain/7598.png' already exists\n",
            "Complete image movement in [ mountain ] folder.\n",
            "---------------------------------------\n",
            "Moving image in [ sea ] folder, current count = 1832\n",
            "Plan to move 83 images\n",
            "Complete image movement in [ sea ] folder.\n",
            "---------------------------------------\n",
            "Moving image in [ street ] folder, current count = 1940\n",
            "Plan to move 191 images\n",
            "Destination path '/content/gdrive/MyDrive/Capstone/Code/dataset storage bin/street/9652.png' already exists\n",
            "Destination path '/content/gdrive/MyDrive/Capstone/Code/dataset storage bin/street/11068.png' already exists\n",
            "Destination path '/content/gdrive/MyDrive/Capstone/Code/dataset storage bin/street/10158.png' already exists\n",
            "Destination path '/content/gdrive/MyDrive/Capstone/Code/dataset storage bin/street/10541.png' already exists\n",
            "Destination path '/content/gdrive/MyDrive/Capstone/Code/dataset storage bin/street/10173.png' already exists\n",
            "Complete image movement in [ street ] folder.\n",
            "---------------------------------------\n"
          ],
          "name": "stdout"
        }
      ]
    },
    {
      "cell_type": "markdown",
      "metadata": {
        "id": "9VNKq9-F0UFf"
      },
      "source": [
        "### **Check Result - Train Set**"
      ]
    },
    {
      "cell_type": "code",
      "metadata": {
        "id": "bQxmva0lLI8y"
      },
      "source": [
        "after_nature_scene__dataset_train = torchvision.datasets.ImageFolder(root='/content/gdrive/MyDrive/Capstone/Code/natural scene dataset /natural scene/train')"
      ],
      "execution_count": null,
      "outputs": []
    },
    {
      "cell_type": "code",
      "metadata": {
        "id": "3OUyBcKWLnRw"
      },
      "source": [
        "file_name_train_after = 'After Balance - Train.csv'"
      ],
      "execution_count": null,
      "outputs": []
    },
    {
      "cell_type": "code",
      "metadata": {
        "colab": {
          "base_uri": "https://localhost:8080/",
          "height": 17
        },
        "id": "pS0p4u56LSMx",
        "outputId": "ce6c3794-93b3-4c5f-f113-b609d2fe1f1d"
      },
      "source": [
        "download_data_to_csv(after_nature_scene__dataset_train,file_name_train_after)"
      ],
      "execution_count": null,
      "outputs": [
        {
          "output_type": "display_data",
          "data": {
            "application/javascript": [
              "\n",
              "    async function download(id, filename, size) {\n",
              "      if (!google.colab.kernel.accessAllowed) {\n",
              "        return;\n",
              "      }\n",
              "      const div = document.createElement('div');\n",
              "      const label = document.createElement('label');\n",
              "      label.textContent = `Downloading \"${filename}\": `;\n",
              "      div.appendChild(label);\n",
              "      const progress = document.createElement('progress');\n",
              "      progress.max = size;\n",
              "      div.appendChild(progress);\n",
              "      document.body.appendChild(div);\n",
              "\n",
              "      const buffers = [];\n",
              "      let downloaded = 0;\n",
              "\n",
              "      const channel = await google.colab.kernel.comms.open(id);\n",
              "      // Send a message to notify the kernel that we're ready.\n",
              "      channel.send({})\n",
              "\n",
              "      for await (const message of channel.messages) {\n",
              "        // Send a message to notify the kernel that we're ready.\n",
              "        channel.send({})\n",
              "        if (message.buffers) {\n",
              "          for (const buffer of message.buffers) {\n",
              "            buffers.push(buffer);\n",
              "            downloaded += buffer.byteLength;\n",
              "            progress.value = downloaded;\n",
              "          }\n",
              "        }\n",
              "      }\n",
              "      const blob = new Blob(buffers, {type: 'application/binary'});\n",
              "      const a = document.createElement('a');\n",
              "      a.href = window.URL.createObjectURL(blob);\n",
              "      a.download = filename;\n",
              "      div.appendChild(a);\n",
              "      a.click();\n",
              "      div.remove();\n",
              "    }\n",
              "  "
            ],
            "text/plain": [
              "<IPython.core.display.Javascript object>"
            ]
          },
          "metadata": {
            "tags": []
          }
        },
        {
          "output_type": "display_data",
          "data": {
            "application/javascript": [
              "download(\"download_dc97abe5-bff2-4d3c-86fc-6eb198b0cbc3\", \"After Balance - Train.csv\", 288123)"
            ],
            "text/plain": [
              "<IPython.core.display.Javascript object>"
            ]
          },
          "metadata": {
            "tags": []
          }
        }
      ]
    },
    {
      "cell_type": "code",
      "metadata": {
        "colab": {
          "base_uri": "https://localhost:8080/"
        },
        "id": "jMntHzgjMHrV",
        "outputId": "67ce2eac-abfc-45bc-8ee2-4c3213d35832"
      },
      "source": [
        "data_table_train_balance = data_analysis(file_name_train_after)\r\n",
        "data_table_train_balance"
      ],
      "execution_count": null,
      "outputs": [
        {
          "output_type": "execute_result",
          "data": {
            "text/plain": [
              "folder  className\n",
              "train   buildings    1749\n",
              "        forest       1749\n",
              "        glacier      1749\n",
              "        mountain     1749\n",
              "        sea          1749\n",
              "        street       1749\n",
              "Name: name, dtype: int64"
            ]
          },
          "metadata": {
            "tags": []
          },
          "execution_count": 230
        }
      ]
    },
    {
      "cell_type": "markdown",
      "metadata": {
        "id": "a7qum29IOKo2"
      },
      "source": [
        "### Balance the **validation** folder"
      ]
    },
    {
      "cell_type": "code",
      "metadata": {
        "colab": {
          "base_uri": "https://localhost:8080/"
        },
        "id": "b9XmzPE_OKCV",
        "outputId": "d63caf96-32e5-4fc1-dbba-e59edba844ba"
      },
      "source": [
        "for class_name, count in val_dict.items():\r\n",
        "  print('Moving image in [ {} ] folder, current count = {}'.format(class_name,count))\r\n",
        "\r\n",
        "  move_count = count -  num_samples_val\r\n",
        "\r\n",
        "  print('Plan to move {} images'.format(move_count))\r\n",
        "\r\n",
        "  while move_count !=0:\r\n",
        "    selectedFile = random.choice(val_nameList) # randomly choose which image to move out\r\n",
        "    folder_name = selectedFile[0].split('/')[-2]\r\n",
        "    if folder_name == class_name:\r\n",
        "      try:\r\n",
        "        shutil.move(selectedFile[0],storage_path + folder_name)\r\n",
        "        move_count -=1\r\n",
        "      except Exception as e:\r\n",
        "          print(e)\r\n",
        "  \r\n",
        "  print('Complete image movement in [ {} ] folder.'.format(class_name))\r\n",
        "  print('---------------------------------------')\r\n"
      ],
      "execution_count": null,
      "outputs": [
        {
          "output_type": "stream",
          "text": [
            "Moving image in [ buildings ] folder, current count = 437\n",
            "Plan to move 0 images\n",
            "Complete image movement in [ buildings ] folder.\n",
            "---------------------------------------\n",
            "Moving image in [ forest ] folder, current count = 474\n",
            "Plan to move 37 images\n",
            "Destination path '/content/gdrive/MyDrive/Capstone/Code/dataset storage bin/forest/641.png' already exists\n",
            "Complete image movement in [ forest ] folder.\n",
            "---------------------------------------\n",
            "Moving image in [ glacier ] folder, current count = 553\n",
            "Plan to move 116 images\n",
            "Destination path '/content/gdrive/MyDrive/Capstone/Code/dataset storage bin/glacier/1419.png' already exists\n",
            "Destination path '/content/gdrive/MyDrive/Capstone/Code/dataset storage bin/glacier/1025.png' already exists\n",
            "Destination path '/content/gdrive/MyDrive/Capstone/Code/dataset storage bin/glacier/1139.png' already exists\n",
            "Destination path '/content/gdrive/MyDrive/Capstone/Code/dataset storage bin/glacier/1310.png' already exists\n",
            "Destination path '/content/gdrive/MyDrive/Capstone/Code/dataset storage bin/glacier/1199.png' already exists\n",
            "Destination path '/content/gdrive/MyDrive/Capstone/Code/dataset storage bin/glacier/1140.png' already exists\n",
            "Destination path '/content/gdrive/MyDrive/Capstone/Code/dataset storage bin/glacier/1294.png' already exists\n",
            "Destination path '/content/gdrive/MyDrive/Capstone/Code/dataset storage bin/glacier/1199.png' already exists\n",
            "Destination path '/content/gdrive/MyDrive/Capstone/Code/dataset storage bin/glacier/1139.png' already exists\n",
            "Destination path '/content/gdrive/MyDrive/Capstone/Code/dataset storage bin/glacier/1275.png' already exists\n",
            "Destination path '/content/gdrive/MyDrive/Capstone/Code/dataset storage bin/glacier/1276.png' already exists\n",
            "Complete image movement in [ glacier ] folder.\n",
            "---------------------------------------\n",
            "Moving image in [ mountain ] folder, current count = 525\n",
            "Plan to move 88 images\n",
            "Destination path '/content/gdrive/MyDrive/Capstone/Code/dataset storage bin/mountain/1599.png' already exists\n",
            "Destination path '/content/gdrive/MyDrive/Capstone/Code/dataset storage bin/mountain/1483.png' already exists\n",
            "Destination path '/content/gdrive/MyDrive/Capstone/Code/dataset storage bin/mountain/1948.png' already exists\n",
            "Destination path '/content/gdrive/MyDrive/Capstone/Code/dataset storage bin/mountain/1720.png' already exists\n",
            "Destination path '/content/gdrive/MyDrive/Capstone/Code/dataset storage bin/mountain/1521.png' already exists\n",
            "Destination path '/content/gdrive/MyDrive/Capstone/Code/dataset storage bin/mountain/1503.png' already exists\n",
            "Destination path '/content/gdrive/MyDrive/Capstone/Code/dataset storage bin/mountain/1503.png' already exists\n",
            "Destination path '/content/gdrive/MyDrive/Capstone/Code/dataset storage bin/mountain/1720.png' already exists\n",
            "Destination path '/content/gdrive/MyDrive/Capstone/Code/dataset storage bin/mountain/1905.png' already exists\n",
            "Destination path '/content/gdrive/MyDrive/Capstone/Code/dataset storage bin/mountain/1786.png' already exists\n",
            "Destination path '/content/gdrive/MyDrive/Capstone/Code/dataset storage bin/mountain/1877.png' already exists\n",
            "Complete image movement in [ mountain ] folder.\n",
            "---------------------------------------\n",
            "Moving image in [ sea ] folder, current count = 510\n",
            "Plan to move 73 images\n",
            "Destination path '/content/gdrive/MyDrive/Capstone/Code/dataset storage bin/sea/2237.png' already exists\n",
            "Destination path '/content/gdrive/MyDrive/Capstone/Code/dataset storage bin/sea/2160.png' already exists\n",
            "Destination path '/content/gdrive/MyDrive/Capstone/Code/dataset storage bin/sea/2343.png' already exists\n",
            "Complete image movement in [ sea ] folder.\n",
            "---------------------------------------\n",
            "Moving image in [ street ] folder, current count = 501\n",
            "Plan to move 64 images\n",
            "Destination path '/content/gdrive/MyDrive/Capstone/Code/dataset storage bin/street/2862.png' already exists\n",
            "Destination path '/content/gdrive/MyDrive/Capstone/Code/dataset storage bin/street/2682.png' already exists\n",
            "Destination path '/content/gdrive/MyDrive/Capstone/Code/dataset storage bin/street/2862.png' already exists\n",
            "Complete image movement in [ street ] folder.\n",
            "---------------------------------------\n"
          ],
          "name": "stdout"
        }
      ]
    },
    {
      "cell_type": "markdown",
      "metadata": {
        "id": "pItZfHRePBWv"
      },
      "source": [
        "### **Check Result - Validation Set**"
      ]
    },
    {
      "cell_type": "code",
      "metadata": {
        "id": "Qzfjw3mVPFEd"
      },
      "source": [
        "after_nature_scene__dataset_validation = torchvision.datasets.ImageFolder(root='/content/gdrive/MyDrive/Capstone/Code/natural scene dataset /natural scene/validation')"
      ],
      "execution_count": null,
      "outputs": []
    },
    {
      "cell_type": "code",
      "metadata": {
        "id": "Y-BcF75nPKUc"
      },
      "source": [
        "file_name_val_after = 'After Balance - Validation.csv'"
      ],
      "execution_count": null,
      "outputs": []
    },
    {
      "cell_type": "code",
      "metadata": {
        "colab": {
          "base_uri": "https://localhost:8080/",
          "height": 17
        },
        "id": "j4XjKHgbPOXR",
        "outputId": "ac73aea4-822d-4037-f14f-4b9ccc9e8067"
      },
      "source": [
        "download_data_to_csv(after_nature_scene__dataset_validation,file_name_val_after)"
      ],
      "execution_count": null,
      "outputs": [
        {
          "output_type": "display_data",
          "data": {
            "application/javascript": [
              "\n",
              "    async function download(id, filename, size) {\n",
              "      if (!google.colab.kernel.accessAllowed) {\n",
              "        return;\n",
              "      }\n",
              "      const div = document.createElement('div');\n",
              "      const label = document.createElement('label');\n",
              "      label.textContent = `Downloading \"${filename}\": `;\n",
              "      div.appendChild(label);\n",
              "      const progress = document.createElement('progress');\n",
              "      progress.max = size;\n",
              "      div.appendChild(progress);\n",
              "      document.body.appendChild(div);\n",
              "\n",
              "      const buffers = [];\n",
              "      let downloaded = 0;\n",
              "\n",
              "      const channel = await google.colab.kernel.comms.open(id);\n",
              "      // Send a message to notify the kernel that we're ready.\n",
              "      channel.send({})\n",
              "\n",
              "      for await (const message of channel.messages) {\n",
              "        // Send a message to notify the kernel that we're ready.\n",
              "        channel.send({})\n",
              "        if (message.buffers) {\n",
              "          for (const buffer of message.buffers) {\n",
              "            buffers.push(buffer);\n",
              "            downloaded += buffer.byteLength;\n",
              "            progress.value = downloaded;\n",
              "          }\n",
              "        }\n",
              "      }\n",
              "      const blob = new Blob(buffers, {type: 'application/binary'});\n",
              "      const a = document.createElement('a');\n",
              "      a.href = window.URL.createObjectURL(blob);\n",
              "      a.download = filename;\n",
              "      div.appendChild(a);\n",
              "      a.click();\n",
              "      div.remove();\n",
              "    }\n",
              "  "
            ],
            "text/plain": [
              "<IPython.core.display.Javascript object>"
            ]
          },
          "metadata": {
            "tags": []
          }
        },
        {
          "output_type": "display_data",
          "data": {
            "application/javascript": [
              "download(\"download_70b01e25-a4a4-4a9a-b1ea-ac73a45fa798\", \"After Balance - Validation.csv\", 83071)"
            ],
            "text/plain": [
              "<IPython.core.display.Javascript object>"
            ]
          },
          "metadata": {
            "tags": []
          }
        }
      ]
    },
    {
      "cell_type": "code",
      "metadata": {
        "colab": {
          "base_uri": "https://localhost:8080/"
        },
        "id": "k6siDNTmPW72",
        "outputId": "feb7e88c-db43-44cc-b9ba-15bd76dcc935"
      },
      "source": [
        "data_table_val_balance = data_analysis(file_name_val_after)\r\n",
        "data_table_val_balance"
      ],
      "execution_count": null,
      "outputs": [
        {
          "output_type": "execute_result",
          "data": {
            "text/plain": [
              "folder      className\n",
              "validation  buildings    437\n",
              "            forest       437\n",
              "            glacier      437\n",
              "            mountain     437\n",
              "            sea          437\n",
              "            street       437\n",
              "Name: name, dtype: int64"
            ]
          },
          "metadata": {
            "tags": []
          },
          "execution_count": 236
        }
      ]
    },
    {
      "cell_type": "markdown",
      "metadata": {
        "id": "VmaqHxjhPeCN"
      },
      "source": [
        "## **Analysis - After Balance**\r\n",
        "\r\n",
        "Analyze the nature scene dataset based on the csv file"
      ]
    },
    {
      "cell_type": "code",
      "metadata": {
        "colab": {
          "base_uri": "https://localhost:8080/"
        },
        "id": "lbHYJ7_WP6yS",
        "outputId": "2357f667-bf67-442a-fe2b-57055b544b69"
      },
      "source": [
        "#Load images\r\n",
        "nature_scene__dataset_after = torchvision.datasets.ImageFolder(root=image_path)\r\n",
        "print(len(nature_scene__dataset_after.samples))"
      ],
      "execution_count": null,
      "outputs": [
        {
          "output_type": "stream",
          "text": [
            "15768\n"
          ],
          "name": "stdout"
        }
      ]
    },
    {
      "cell_type": "code",
      "metadata": {
        "id": "j95dsc0XPs0t"
      },
      "source": [
        "file_name_total_after = 'After Balance - Nature Scene Dataset Analysis Result.csv'"
      ],
      "execution_count": null,
      "outputs": []
    },
    {
      "cell_type": "code",
      "metadata": {
        "colab": {
          "base_uri": "https://localhost:8080/",
          "height": 17
        },
        "id": "yeLpLlsaPjbL",
        "outputId": "dc2d8d5b-5a44-4b5f-e817-4bd97298419a"
      },
      "source": [
        "download_data_to_csv(nature_scene__dataset_after,file_name_total_after)"
      ],
      "execution_count": null,
      "outputs": [
        {
          "output_type": "display_data",
          "data": {
            "application/javascript": [
              "\n",
              "    async function download(id, filename, size) {\n",
              "      if (!google.colab.kernel.accessAllowed) {\n",
              "        return;\n",
              "      }\n",
              "      const div = document.createElement('div');\n",
              "      const label = document.createElement('label');\n",
              "      label.textContent = `Downloading \"${filename}\": `;\n",
              "      div.appendChild(label);\n",
              "      const progress = document.createElement('progress');\n",
              "      progress.max = size;\n",
              "      div.appendChild(progress);\n",
              "      document.body.appendChild(div);\n",
              "\n",
              "      const buffers = [];\n",
              "      let downloaded = 0;\n",
              "\n",
              "      const channel = await google.colab.kernel.comms.open(id);\n",
              "      // Send a message to notify the kernel that we're ready.\n",
              "      channel.send({})\n",
              "\n",
              "      for await (const message of channel.messages) {\n",
              "        // Send a message to notify the kernel that we're ready.\n",
              "        channel.send({})\n",
              "        if (message.buffers) {\n",
              "          for (const buffer of message.buffers) {\n",
              "            buffers.push(buffer);\n",
              "            downloaded += buffer.byteLength;\n",
              "            progress.value = downloaded;\n",
              "          }\n",
              "        }\n",
              "      }\n",
              "      const blob = new Blob(buffers, {type: 'application/binary'});\n",
              "      const a = document.createElement('a');\n",
              "      a.href = window.URL.createObjectURL(blob);\n",
              "      a.download = filename;\n",
              "      div.appendChild(a);\n",
              "      a.click();\n",
              "      div.remove();\n",
              "    }\n",
              "  "
            ],
            "text/plain": [
              "<IPython.core.display.Javascript object>"
            ]
          },
          "metadata": {
            "tags": []
          }
        },
        {
          "output_type": "display_data",
          "data": {
            "application/javascript": [
              "download(\"download_6f864d5e-441b-4431-a92a-7c6ed41930d9\", \"After Balance - Nature Scene Dataset Analysis Result.csv\", 446723)"
            ],
            "text/plain": [
              "<IPython.core.display.Javascript object>"
            ]
          },
          "metadata": {
            "tags": []
          }
        }
      ]
    },
    {
      "cell_type": "code",
      "metadata": {
        "colab": {
          "base_uri": "https://localhost:8080/"
        },
        "id": "k-xy53I7QJHS",
        "outputId": "3d449178-671e-4916-8cd6-8bb09eb0e7f7"
      },
      "source": [
        "data_table_after = data_analysis(file_name_total_after)\r\n",
        "data_table_after"
      ],
      "execution_count": null,
      "outputs": [
        {
          "output_type": "execute_result",
          "data": {
            "text/plain": [
              "folder      className\n",
              "test        buildings     442\n",
              "            forest        442\n",
              "            glacier       442\n",
              "            mountain      442\n",
              "            sea           442\n",
              "            street        442\n",
              "train       buildings    1749\n",
              "            forest       1749\n",
              "            glacier      1749\n",
              "            mountain     1749\n",
              "            sea          1749\n",
              "            street       1749\n",
              "validation  buildings     437\n",
              "            forest        437\n",
              "            glacier       437\n",
              "            mountain      437\n",
              "            sea           437\n",
              "            street        437\n",
              "Name: name, dtype: int64"
            ]
          },
          "metadata": {
            "tags": []
          },
          "execution_count": 246
        }
      ]
    }
  ]
}