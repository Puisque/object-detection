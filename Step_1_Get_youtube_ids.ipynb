{
  "nbformat": 4,
  "nbformat_minor": 0,
  "metadata": {
    "colab": {
      "name": "Step 1 - Get youtube ids.ipynb",
      "provenance": [],
      "collapsed_sections": [],
      "include_colab_link": true
    },
    "kernelspec": {
      "name": "python3",
      "display_name": "Python 3"
    }
  },
  "cells": [
    {
      "cell_type": "markdown",
      "metadata": {
        "id": "view-in-github",
        "colab_type": "text"
      },
      "source": [
        "<a href=\"https://colab.research.google.com/github/Puisque/object-detection/blob/main/Step_1_Get_youtube_ids.ipynb\" target=\"_parent\"><img src=\"https://colab.research.google.com/assets/colab-badge.svg\" alt=\"Open In Colab\"/></a>"
      ]
    },
    {
      "cell_type": "markdown",
      "metadata": {
        "id": "ljcqK8VdUwiu"
      },
      "source": [
        "**The below codes are for Video Database Module.**\n",
        "\n",
        "#### **Main Notes**:\n",
        "\n",
        "Logic:\n",
        "1. Get **TMDB ids** from TMDB dataset\n",
        "2. Use **API key & TMDB ids** to get **YouTube ids** from TMDB API\n",
        "3. Use YouTube ids to format YouTube links, which will be used by Pafy.\n",
        "\n",
        "---\n",
        "Instruction: How to get movie trailer YouTube ids from TMDb API: https://oupton.github.io/startup-ds/. Note:*The TMDB API key can be found in our Code folder*.\n",
        "\n",
        "TMDB dataset (where we get tmdbid): https://www.kaggle.com/rounakbanik/the-movies-dataset?select=keywords.csv. \n",
        "\n",
        "Note: \n",
        "1. The dataset consists of movies released on or before July 2017.\n",
        "2. The dataset has been uploaded to our Code folder.\n",
        "\n"
      ]
    },
    {
      "cell_type": "code",
      "metadata": {
        "id": "BGsTWNkPbhiP"
      },
      "source": [
        "import time\r\n",
        "import requests\r\n",
        "import pandas as pd"
      ],
      "execution_count": null,
      "outputs": []
    },
    {
      "cell_type": "code",
      "metadata": {
        "colab": {
          "base_uri": "https://localhost:8080/"
        },
        "id": "Mfb9BQGUvRpJ",
        "outputId": "080b668a-42d6-4ed3-bfe2-ffe216191e2a"
      },
      "source": [
        "from google.colab import drive\r\n",
        "drive.mount('/content/gdrive')"
      ],
      "execution_count": null,
      "outputs": [
        {
          "output_type": "stream",
          "text": [
            "Drive already mounted at /content/gdrive; to attempt to forcibly remount, call drive.mount(\"/content/gdrive\", force_remount=True).\n"
          ],
          "name": "stdout"
        }
      ]
    },
    {
      "cell_type": "markdown",
      "metadata": {
        "id": "5FCkWb2ZKD1S"
      },
      "source": [
        "#### **Get TMDB ids from the TMDB dataset**"
      ]
    },
    {
      "cell_type": "code",
      "metadata": {
        "id": "auRBXtIUvQQ2"
      },
      "source": [
        "def read_dataset_csv(fileName):\r\n",
        "  file = pd.read_csv(\r\n",
        "    \"/content/gdrive/MyDrive/Capstone/Code/TMDB/\"+fileName,\r\n",
        "    usecols = header,\r\n",
        "    index_col=False)\r\n",
        "\r\n",
        "  return file"
      ],
      "execution_count": null,
      "outputs": []
    },
    {
      "cell_type": "code",
      "metadata": {
        "id": "_dl0k9piv3Yw",
        "colab": {
          "base_uri": "https://localhost:8080/"
        },
        "outputId": "e5071cbd-78a1-4ce8-f342-5871c8a197f1"
      },
      "source": [
        "fileName = 'tmdb_movies_metadata.csv' # can be found in the Code -> TMDB folder \r\n",
        "header = ['genres','homepage','id','original_language','original_title','overview', 'poster_path','release_date', 'runtime', 'title',]#10 columns \r\n",
        "fileList_1 = read_dataset_csv(fileName)\r\n",
        "print(fileList_1.shape)"
      ],
      "execution_count": null,
      "outputs": [
        {
          "output_type": "stream",
          "text": [
            "(45466, 10)\n"
          ],
          "name": "stdout"
        }
      ]
    },
    {
      "cell_type": "code",
      "metadata": {
        "id": "CZhz_bXaxYry"
      },
      "source": [
        "#For test: use the first 100 movies\r\n",
        "test_list = fileList_1[:100].to_dict('index')"
      ],
      "execution_count": null,
      "outputs": []
    },
    {
      "cell_type": "markdown",
      "metadata": {
        "id": "RbCWSV3iLcuI"
      },
      "source": [
        "#### **Get YouTube ids from TMDB API**"
      ]
    },
    {
      "cell_type": "code",
      "metadata": {
        "id": "uwYNH2jUkTKq"
      },
      "source": [
        "TMDB_API_KEY = 'e0476a281215758d95503294fc0cb530' # can be found in the Code -> TMDB folder \r\n",
        "TMDB_VIDEO_URL = 'https://api.themoviedb.org/3/movie/{}/videos?api_key={}'"
      ],
      "execution_count": null,
      "outputs": []
    },
    {
      "cell_type": "markdown",
      "metadata": {
        "id": "c7gNGRWtliN4"
      },
      "source": [
        "Pull the YouTube trailer IDs of the movies using the TMDb API.\r\n",
        "\r\n",
        "Please note that TMDb has a ***40 request per 10 second interval rate limiting***, so be cautious not to upset this."
      ]
    },
    {
      "cell_type": "code",
      "metadata": {
        "id": "-hEnX2V_4M4_"
      },
      "source": [
        "def get_youtube_data(video_data):\r\n",
        "  trailers = {}\r\n",
        "  url_base = 'https://www.youtube.com/watch?v='\r\n",
        "  for i,(key, value) in enumerate(video_data.items()):\r\n",
        "      try:  \r\n",
        "        url = TMDB_VIDEO_URL.format(value['id'], TMDB_API_KEY)\r\n",
        "        resp = requests.get(url)\r\n",
        "        if resp.status_code != 200:\r\n",
        "            print('Error: Failed to retrieve video for TMDb ID {} with status code: {}'\\\r\n",
        "                    .format(value['id'], resp.status_code))\r\n",
        "            trailers.append([])\r\n",
        "        else:\r\n",
        "            youtube_results = [] #a list of ids\r\n",
        "            for video in resp.json()['results']:\r\n",
        "              if video['site'] == 'YouTube' and (video['type'] in { 'Teaser', 'Trailer' }) and video['key'] != '':\r\n",
        "                  youtube_results.append([video['name'],url_base+video['key']])\r\n",
        "            if len(youtube_results) >0:\r\n",
        "              temp = {}\r\n",
        "              temp['Youtube Info'] = youtube_results\r\n",
        "              temp['Video Info'] = value\r\n",
        "              trailers[value['id']] = temp\r\n",
        "\r\n",
        "        # Rate limiting, stall 10 seconds\r\n",
        "        if i != 0 and i % 40 == 0:\r\n",
        "            print('Sleep')\r\n",
        "            time.sleep(10)\r\n",
        "      except:\r\n",
        "        print('Send Request Failed')\r\n",
        "  \r\n",
        "  return trailers"
      ],
      "execution_count": null,
      "outputs": []
    },
    {
      "cell_type": "code",
      "metadata": {
        "id": "iLVcvMhC1h2S",
        "colab": {
          "base_uri": "https://localhost:8080/"
        },
        "outputId": "ef63bdc8-3487-4daa-8d97-00445d054b19"
      },
      "source": [
        "test_trailer_list = get_youtube_data(test_list)"
      ],
      "execution_count": null,
      "outputs": [
        {
          "output_type": "stream",
          "text": [
            "Sleep\n",
            "Sleep\n"
          ],
          "name": "stdout"
        }
      ]
    },
    {
      "cell_type": "code",
      "metadata": {
        "colab": {
          "base_uri": "https://localhost:8080/"
        },
        "id": "p-LROeiz1z2V",
        "outputId": "04b9b635-6c7a-4b19-cebf-3b1dbd646292"
      },
      "source": [
        "#Visualize Data\r\n",
        "n = 0\r\n",
        "for key, value in test_trailer_list.items():\r\n",
        "  print('TMDB ID = ',key)\r\n",
        "  print('Youtube Info = ',value['Youtube Info'])\r\n",
        "  print('Movie Info = ',value['Video Info'])\r\n",
        "  print('--------------------------------------------')\r\n",
        "  n+=1\r\n",
        "  if (n>3): \r\n",
        "    break\r\n"
      ],
      "execution_count": null,
      "outputs": [
        {
          "output_type": "stream",
          "text": [
            "TMDB ID =  862\n",
            "Youtube Info =  [['Toy Story Teaser Trailer HD Widescreen', 'https://www.youtube.com/watch?v=4j_qfJN0qd4'], ['Toy Story Trailer 1995 | Disney Throwback | Oh My Disney', 'https://www.youtube.com/watch?v=tN1A2mVnrOM'], ['Toy Story (1995) Trailer #1 | Movieclips Classic Trailers', 'https://www.youtube.com/watch?v=v-PjgYDrg70']]\n",
            "Movie Info =  {'genres': \"[{'id': 16, 'name': 'Animation'}, {'id': 35, 'name': 'Comedy'}, {'id': 10751, 'name': 'Family'}]\", 'homepage': 'http://toystory.disney.com/toy-story', 'id': '862', 'original_language': 'en', 'original_title': 'Toy Story', 'overview': \"Led by Woody, Andy's toys live happily in his room until Andy's birthday brings Buzz Lightyear onto the scene. Afraid of losing his place in Andy's heart, Woody plots against Buzz. But when circumstances separate Buzz and Woody from their owner, the duo eventually learns to put aside their differences.\", 'poster_path': '/rhIRbceoE9lR4veEXuwCC2wARtG.jpg', 'release_date': '1995-10-30', 'runtime': 81.0, 'title': 'Toy Story'}\n",
            "--------------------------------------------\n",
            "TMDB ID =  8844\n",
            "Youtube Info =  [['Jumanji Trailer 1995', 'https://www.youtube.com/watch?v=3LPANjHlPxo'], ['Jumanji (1995) International Teaser', 'https://www.youtube.com/watch?v=3aFLqO5I73E'], ['Jumanji (1995) Trailer #1 |  Movieclips Classic Trailers', 'https://www.youtube.com/watch?v=eTjDsENDZ6s']]\n",
            "Movie Info =  {'genres': \"[{'id': 12, 'name': 'Adventure'}, {'id': 14, 'name': 'Fantasy'}, {'id': 10751, 'name': 'Family'}]\", 'homepage': nan, 'id': '8844', 'original_language': 'en', 'original_title': 'Jumanji', 'overview': \"When siblings Judy and Peter discover an enchanted board game that opens the door to a magical world, they unwittingly invite Alan -- an adult who's been trapped inside the game for 26 years -- into their living room. Alan's only hope for freedom is to finish the game, which proves risky as all three find themselves running from giant rhinoceroses, evil monkeys and other terrifying creatures.\", 'poster_path': '/vzmL6fP7aPKNKPRTFnZmiUfciyV.jpg', 'release_date': '1995-12-15', 'runtime': 104.0, 'title': 'Jumanji'}\n",
            "--------------------------------------------\n",
            "TMDB ID =  15602\n",
            "Youtube Info =  [['Grumpier Old Men - Trailer', 'https://www.youtube.com/watch?v=rEnOoWs3FuA']]\n",
            "Movie Info =  {'genres': \"[{'id': 10749, 'name': 'Romance'}, {'id': 35, 'name': 'Comedy'}]\", 'homepage': nan, 'id': '15602', 'original_language': 'en', 'original_title': 'Grumpier Old Men', 'overview': \"A family wedding reignites the ancient feud between next-door neighbors and fishing buddies John and Max. Meanwhile, a sultry Italian divorcée opens a restaurant at the local bait shop, alarming the locals who worry she'll scare the fish away. But she's less interested in seafood than she is in cooking up a hot time with Max.\", 'poster_path': '/6ksm1sjKMFLbO7UY2i6G1ju9SML.jpg', 'release_date': '1995-12-22', 'runtime': 101.0, 'title': 'Grumpier Old Men'}\n",
            "--------------------------------------------\n",
            "TMDB ID =  31357\n",
            "Youtube Info =  [['Waiting To Exhale', 'https://www.youtube.com/watch?v=j9xml1CxgXI']]\n",
            "Movie Info =  {'genres': \"[{'id': 35, 'name': 'Comedy'}, {'id': 18, 'name': 'Drama'}, {'id': 10749, 'name': 'Romance'}]\", 'homepage': nan, 'id': '31357', 'original_language': 'en', 'original_title': 'Waiting to Exhale', 'overview': 'Cheated on, mistreated and stepped on, the women are holding their breath, waiting for the elusive \"good man\" to break a string of less-than-stellar lovers. Friends and confidants Vannah, Bernie, Glo and Robin talk it all out, determined to find a better way to breathe.', 'poster_path': '/16XOMpEaLWkrcPqSQqhTmeJuqQl.jpg', 'release_date': '1995-12-22', 'runtime': 127.0, 'title': 'Waiting to Exhale'}\n",
            "--------------------------------------------\n"
          ],
          "name": "stdout"
        }
      ]
    },
    {
      "cell_type": "markdown",
      "metadata": {
        "id": "vO5_FsbJMoB_"
      },
      "source": [
        "#### **Apply Filter**"
      ]
    },
    {
      "cell_type": "code",
      "metadata": {
        "colab": {
          "base_uri": "https://localhost:8080/"
        },
        "id": "5Q28hGIzFyD5",
        "outputId": "7c12da7f-04f0-445f-f8ce-2172c286444b"
      },
      "source": [
        "!pip install pafy\r\n",
        "!pip install youtube_dl"
      ],
      "execution_count": null,
      "outputs": [
        {
          "output_type": "stream",
          "text": [
            "Requirement already satisfied: pafy in /usr/local/lib/python3.6/dist-packages (0.5.5)\n",
            "Requirement already satisfied: youtube_dl in /usr/local/lib/python3.6/dist-packages (2021.1.24.1)\n"
          ],
          "name": "stdout"
        }
      ]
    },
    {
      "cell_type": "code",
      "metadata": {
        "colab": {
          "base_uri": "https://localhost:8080/"
        },
        "id": "gQr_FOWoF0Vq",
        "outputId": "af1413c5-56bb-49bb-b433-6cca65f521fb"
      },
      "source": [
        "!pip install tensorflow==1.13.1\r\n",
        "!pip install keras==2.3.0"
      ],
      "execution_count": null,
      "outputs": [
        {
          "output_type": "stream",
          "text": [
            "Requirement already satisfied: tensorflow==1.13.1 in /usr/local/lib/python3.6/dist-packages (1.13.1)\n",
            "Requirement already satisfied: astor>=0.6.0 in /usr/local/lib/python3.6/dist-packages (from tensorflow==1.13.1) (0.8.1)\n",
            "Requirement already satisfied: gast>=0.2.0 in /usr/local/lib/python3.6/dist-packages (from tensorflow==1.13.1) (0.3.3)\n",
            "Requirement already satisfied: protobuf>=3.6.1 in /usr/local/lib/python3.6/dist-packages (from tensorflow==1.13.1) (3.12.4)\n",
            "Requirement already satisfied: absl-py>=0.1.6 in /usr/local/lib/python3.6/dist-packages (from tensorflow==1.13.1) (0.10.0)\n",
            "Requirement already satisfied: wheel>=0.26 in /usr/local/lib/python3.6/dist-packages (from tensorflow==1.13.1) (0.36.2)\n",
            "Requirement already satisfied: keras-preprocessing>=1.0.5 in /usr/local/lib/python3.6/dist-packages (from tensorflow==1.13.1) (1.1.2)\n",
            "Requirement already satisfied: grpcio>=1.8.6 in /usr/local/lib/python3.6/dist-packages (from tensorflow==1.13.1) (1.32.0)\n",
            "Requirement already satisfied: numpy>=1.13.3 in /usr/local/lib/python3.6/dist-packages (from tensorflow==1.13.1) (1.19.5)\n",
            "Requirement already satisfied: tensorboard<1.14.0,>=1.13.0 in /usr/local/lib/python3.6/dist-packages (from tensorflow==1.13.1) (1.13.1)\n",
            "Requirement already satisfied: keras-applications>=1.0.6 in /usr/local/lib/python3.6/dist-packages (from tensorflow==1.13.1) (1.0.8)\n",
            "Requirement already satisfied: tensorflow-estimator<1.14.0rc0,>=1.13.0 in /usr/local/lib/python3.6/dist-packages (from tensorflow==1.13.1) (1.13.0)\n",
            "Requirement already satisfied: termcolor>=1.1.0 in /usr/local/lib/python3.6/dist-packages (from tensorflow==1.13.1) (1.1.0)\n",
            "Requirement already satisfied: six>=1.10.0 in /usr/local/lib/python3.6/dist-packages (from tensorflow==1.13.1) (1.15.0)\n",
            "Requirement already satisfied: setuptools in /usr/local/lib/python3.6/dist-packages (from protobuf>=3.6.1->tensorflow==1.13.1) (51.3.3)\n",
            "Requirement already satisfied: markdown>=2.6.8 in /usr/local/lib/python3.6/dist-packages (from tensorboard<1.14.0,>=1.13.0->tensorflow==1.13.1) (3.3.3)\n",
            "Requirement already satisfied: werkzeug>=0.11.15 in /usr/local/lib/python3.6/dist-packages (from tensorboard<1.14.0,>=1.13.0->tensorflow==1.13.1) (1.0.1)\n",
            "Requirement already satisfied: h5py in /usr/local/lib/python3.6/dist-packages (from keras-applications>=1.0.6->tensorflow==1.13.1) (2.10.0)\n",
            "Requirement already satisfied: mock>=2.0.0 in /usr/local/lib/python3.6/dist-packages (from tensorflow-estimator<1.14.0rc0,>=1.13.0->tensorflow==1.13.1) (4.0.3)\n",
            "Requirement already satisfied: importlib-metadata; python_version < \"3.8\" in /usr/local/lib/python3.6/dist-packages (from markdown>=2.6.8->tensorboard<1.14.0,>=1.13.0->tensorflow==1.13.1) (3.3.0)\n",
            "Requirement already satisfied: typing-extensions>=3.6.4; python_version < \"3.8\" in /usr/local/lib/python3.6/dist-packages (from importlib-metadata; python_version < \"3.8\"->markdown>=2.6.8->tensorboard<1.14.0,>=1.13.0->tensorflow==1.13.1) (3.7.4.3)\n",
            "Requirement already satisfied: zipp>=0.5 in /usr/local/lib/python3.6/dist-packages (from importlib-metadata; python_version < \"3.8\"->markdown>=2.6.8->tensorboard<1.14.0,>=1.13.0->tensorflow==1.13.1) (3.4.0)\n",
            "Requirement already satisfied: keras==2.3.0 in /usr/local/lib/python3.6/dist-packages (2.3.0)\n",
            "Requirement already satisfied: h5py in /usr/local/lib/python3.6/dist-packages (from keras==2.3.0) (2.10.0)\n",
            "Requirement already satisfied: keras-preprocessing>=1.0.5 in /usr/local/lib/python3.6/dist-packages (from keras==2.3.0) (1.1.2)\n",
            "Requirement already satisfied: numpy>=1.9.1 in /usr/local/lib/python3.6/dist-packages (from keras==2.3.0) (1.19.5)\n",
            "Requirement already satisfied: pyyaml in /usr/local/lib/python3.6/dist-packages (from keras==2.3.0) (3.13)\n",
            "Requirement already satisfied: keras-applications>=1.0.6 in /usr/local/lib/python3.6/dist-packages (from keras==2.3.0) (1.0.8)\n",
            "Requirement already satisfied: scipy>=0.14 in /usr/local/lib/python3.6/dist-packages (from keras==2.3.0) (1.4.1)\n",
            "Requirement already satisfied: six>=1.9.0 in /usr/local/lib/python3.6/dist-packages (from keras==2.3.0) (1.15.0)\n"
          ],
          "name": "stdout"
        }
      ]
    },
    {
      "cell_type": "code",
      "metadata": {
        "id": "lMkC9_W-F2tD"
      },
      "source": [
        "import pafy\r\n",
        "import cv2\r\n",
        "import ast"
      ],
      "execution_count": null,
      "outputs": []
    },
    {
      "cell_type": "code",
      "metadata": {
        "id": "rQ1nUTfjMEry"
      },
      "source": [
        "def genres_filter(data,genres):\r\n",
        "  genres_list = ast.literal_eval(data['Video Info']['genres'])\r\n",
        "  found = False\r\n",
        "  for each in genres_list:\r\n",
        "    if each['name'] == genres:\r\n",
        "      found = True\r\n",
        "      print('Genres Match')\r\n",
        "      break;   \r\n",
        "  return found"
      ],
      "execution_count": null,
      "outputs": []
    },
    {
      "cell_type": "code",
      "metadata": {
        "id": "vDOZ0wqUMxuq"
      },
      "source": [
        "def length_filter(video_streams,length):\r\n",
        "  fps = video_streams.get(cv2.CAP_PROP_FPS) \r\n",
        "  frame_count = int(video_streams.get(cv2.CAP_PROP_FRAME_COUNT))\r\n",
        "  video_length = frame_count/fps\r\n",
        "  print('Duration: {} sec '.format(video_length) )\r\n",
        "  return True if video_length<length else False"
      ],
      "execution_count": null,
      "outputs": []
    },
    {
      "cell_type": "code",
      "metadata": {
        "id": "QZGhu6EayXDx"
      },
      "source": [
        "def get_video_data(num_videos, length,genres,video_list):\r\n",
        "\r\n",
        "  video_list_copy = dict(video_list)\r\n",
        "  n = 0\r\n",
        "  for i,(key, value) in enumerate(video_list_copy.items()):\r\n",
        "      print('------------------ ID {} ------------------'.format(key))\r\n",
        "      streams = [];\r\n",
        "\r\n",
        "      #Filter: Genres\r\n",
        "      if genres  != 'NA':\r\n",
        "        temp = genres_filter(value,genres)\r\n",
        "        if (temp == False): \r\n",
        "          continue\r\n",
        "      for eachVideo in value['Youtube Info']:\r\n",
        "        url = eachVideo[1]\r\n",
        "        try:\r\n",
        "          n+=1\r\n",
        "          youtube_video = pafy.new(url)\r\n",
        "          youtube_video = youtube_video.getbest()\r\n",
        "          video_streams = cv2.VideoCapture(youtube_video.url)\r\n",
        "          #Filter: Video Length\r\n",
        "          if (length_filter(video_streams,length)):\r\n",
        "            print('Within Limit')\r\n",
        "            streams.append([eachVideo[0],eachVideo[1],video_streams])\r\n",
        "        except:\r\n",
        "          print('Pafy Get Wrong')\r\n",
        "        \r\n",
        "        if n != 0 and n % 20 == 0:\r\n",
        "            print('===================== Sleep =====================')\r\n",
        "            time.sleep(10)\r\n",
        "\r\n",
        "      video_list_copy[key]['Youtube Info'] = streams\r\n",
        "      if i>=num_videos:\r\n",
        "        break;\r\n",
        "  \r\n",
        "  return video_list_copy\r\n"
      ],
      "execution_count": null,
      "outputs": []
    },
    {
      "cell_type": "code",
      "metadata": {
        "colab": {
          "base_uri": "https://localhost:8080/"
        },
        "id": "sn0ntm7t9PFv",
        "outputId": "bac38e5e-652e-4af7-9377-dda5a241c429"
      },
      "source": [
        "num_videos=10\r\n",
        "length = 120 #max length , sec\r\n",
        "genres = 'Comedy'\r\n",
        "video_data_stream = get_video_data(num_videos,length,genres,test_trailer_list)"
      ],
      "execution_count": null,
      "outputs": [
        {
          "output_type": "stream",
          "text": [
            "------------------ ID 862 ------------------\n",
            "Genres Match\n",
            "------------------ ID 8844 ------------------\n",
            "------------------ ID 15602 ------------------\n",
            "Genres Match\n",
            "------------------ ID 31357 ------------------\n",
            "Genres Match\n",
            "------------------ ID 11862 ------------------\n",
            "Genres Match\n",
            "------------------ ID 949 ------------------\n",
            "------------------ ID 11860 ------------------\n",
            "Genres Match\n",
            "------------------ ID 45325 ------------------\n",
            "------------------ ID 9091 ------------------\n",
            "------------------ ID 710 ------------------\n",
            "------------------ ID 9087 ------------------\n",
            "Genres Match\n"
          ],
          "name": "stdout"
        }
      ]
    },
    {
      "cell_type": "code",
      "metadata": {
        "colab": {
          "base_uri": "https://localhost:8080/"
        },
        "id": "P4h9ZcjnSfMm",
        "outputId": "12218c26-cdb5-4699-f1fe-dc9900230234"
      },
      "source": [
        "#Demo\r\n",
        "for key, value in test_trailer_list.items():\r\n",
        "  for each in value:\r\n",
        "\r\n",
        "    url = each[1]\r\n",
        "    try:\r\n",
        "      vPafy = pafy.new(url)\r\n",
        "      play = vPafy.getbest()\r\n",
        "      video_streams = cv2.VideoCapture(play.url)\r\n",
        "      \r\n",
        "      fps = video_streams.get(cv2.CAP_PROP_FPS) \r\n",
        "      frame_count = int(video_streams.get(cv2.CAP_PROP_FRAME_COUNT))\r\n",
        "      duration = frame_count/fps\r\n",
        "      print('Video Title : {} ------- Duration: {} sec '.format(each[0],duration) )\r\n",
        "    except:\r\n",
        "      print('Pafy Get Wrong')\r\n"
      ],
      "execution_count": null,
      "outputs": [
        {
          "output_type": "stream",
          "text": [
            "Video Title : Toy Story Teaser Trailer HD Widescreen ------- Duration: 89.65623333333333 sec \n",
            "Video Title : Toy Story Trailer 1995 | Disney Throwback | Oh My Disney ------- Duration: 187.10357777777776 sec \n",
            "Video Title : Toy Story (1995) Trailer #1 | Movieclips Classic Trailers ------- Duration: 88.04628888888888 sec \n",
            "Video Title : Jumanji Trailer 1995 ------- Duration: 167.20870833333333 sec \n",
            "Video Title : Jumanji (1995) International Teaser ------- Duration: 105.14670833333332 sec \n",
            "Video Title : Jumanji (1995) Trailer #1 |  Movieclips Classic Trailers ------- Duration: 171.171 sec \n",
            "Video Title : Grumpier Old Men - Trailer ------- Duration: 111.8117 sec \n",
            "Video Title : Waiting To Exhale ------- Duration: 159.32583333333332 sec \n",
            "Video Title : Father of the Bride Part II (1995) Trailer ------- Duration: 155.6555 sec \n",
            "Video Title : Heat - Original Theatrical Trailer ------- Duration: 135.875 sec \n",
            "Video Title : Sabrina (1995) - Trailer ------- Duration: 169.41924999999998 sec \n",
            "Video Title : Sabrina (1995) Trailer ------- Duration: 174.50766666666667 sec \n",
            "Video Title : Tom and Huck trailer ------- Duration: 59.3 sec \n"
          ],
          "name": "stdout"
        },
        {
          "output_type": "stream",
          "text": [
            "ERROR: Video unavailable\n"
          ],
          "name": "stderr"
        },
        {
          "output_type": "stream",
          "text": [
            "Video Title : Sudden Death Trailer 1995 ------- Duration: 30.029999999999998 sec \n",
            "Pafy Get Wrong\n",
            "Video Title : Goldeneye - Teaser Trailer ------- Duration: 109.83333333333333 sec \n",
            "Video Title : 007: GoldenEye (1995) Trailer - Secret Weapon ------- Duration: 171.00416666666666 sec \n",
            "Video Title : 007: GoldenEye (1995) Trailer - New World Bond ------- Duration: 96.471375 sec \n",
            "Video Title : The American President 1995 Movie Trailer ------- Duration: 169.169 sec \n",
            "Video Title : Dracula: Dead and Loving It - Trailer #1 ------- Duration: 119.29166666666667 sec \n",
            "Video Title : Balto Trailer ------- Duration: 132.36 sec \n",
            "Video Title : NIXON Original Theatrical Trailer ------- Duration: 272.93933333333337 sec \n",
            "Video Title : Cutthroat Island - Trailer ------- Duration: 104.97987499999999 sec \n",
            "Video Title : Casino Official Trailer #1 - (1995) HD ------- Duration: 182.68249999999998 sec \n",
            "Video Title : Sense and Sensibility (1995) Trailer ------- Duration: 135.135 sec \n"
          ],
          "name": "stdout"
        },
        {
          "output_type": "stream",
          "text": [
            "ERROR: Video unavailable\n"
          ],
          "name": "stderr"
        },
        {
          "output_type": "stream",
          "text": [
            "Video Title : Sense and Sensibility (1995) Trailer #1 | Movieclips Classic Trailers ------- Duration: 136.84504166666665 sec \n",
            "Pafy Get Wrong\n",
            "Video Title : Four Rooms - Trailer ------- Duration: 127.33554166666666 sec \n",
            "Video Title : Ace Ventura: When Nature Calls ------- Duration: 118.3182 sec \n",
            "Video Title : Ace Ventura: When Nature Calls - Trailer ------- Duration: 117.75096666666667 sec \n",
            "Video Title : Money Train (Theatrical Trailer) ------- Duration: 162.496 sec \n",
            "Video Title : Get Shorty Official Trailer #1 - Gene Hackman Movie (1995) HD ------- Duration: 154.6962 sec \n",
            "Video Title : Copycat (1995) trailer ------- Duration: 120.07829166666666 sec \n",
            "Video Title : Assassins (1995) ------- Duration: 159.8597 sec \n",
            "Video Title : Powder Official 1995 Movie Trailer ------- Duration: 154.33333333333331 sec \n",
            "Video Title : LEAVING LAS VEGAS - Trailer ( 1995 ) ------- Duration: 120.5204 sec \n",
            "Video Title : Now and Then (1995) Official Trailer 1 - Christina Ricci, Rosie O'Donnell Movie HD ------- Duration: 161.74491666666665 sec \n",
            "Video Title : Persuasion Trailer 1995 ------- Duration: 82.62420833333333 sec \n",
            "Video Title : Persuasion (1995) - Masterpiece Theatre Promo ------- Duration: 61.8618 sec \n",
            "Video Title : Cité des enfants perdus - City of Lost Children - Trailer ------- Duration: 74.24 sec \n",
            "Video Title : The City of Lost Children 1995 Trailer HD | Ron Perlman ------- Duration: 139.97316666666666 sec \n",
            "Video Title : Trailer ------- Duration: 132.59079166666666 sec \n",
            "Video Title : Shanghai Triad (Digitally Restored) - Film Movement Classics Trailer ------- Duration: 88.96387499999999 sec \n",
            "Video Title : Dangerous Minds Trailer ------- Duration: 116.2 sec \n",
            "Video Title : 12 Monkeys - Trailer HD (A Re-Creation) ------- Duration: 145.520375 sec \n",
            "Video Title : Babe (1995) ------- Duration: 127.79166666666667 sec \n"
          ],
          "name": "stdout"
        },
        {
          "output_type": "stream",
          "text": [
            "ERROR: Watch this video on YouTube. Playback on other websites has been disabled by the video owner.\n"
          ],
          "name": "stderr"
        },
        {
          "output_type": "stream",
          "text": [
            "Pafy Get Wrong\n",
            "Video Title : Dead Man Walking Trailer ------- Duration: 148.60583333333332 sec \n",
            "Video Title : It Takes Two Trailer 1995 ------- Duration: 115.19841666666666 sec \n",
            "Video Title : Clueless (1995): Trailer HQ ------- Duration: 143.12 sec \n",
            "Video Title : Cry, The Beloved Country - Trailer ------- Duration: 122.28883333333333 sec \n",
            "Video Title : Richard III - Ian McKellen - Original Trailer  by Film&Clips ------- Duration: 178.99598393574297 sec \n",
            "Video Title : Dead Presidents Trailer SD ------- Duration: 175.40856666666667 sec \n",
            "Video Title : Restoration (1995) Official Trailer 1 - Robert Downey Jr. Movie ------- Duration: 131.256125 sec \n",
            "Video Title : Mortal Kombat (1995) Official Trailer - Action Movie HD ------- Duration: 107.67423333333333 sec \n",
            "Video Title : To Die For (1995) Trailer - Starring Nicole Kidman, Matt Dillon, Joaquin Phoenix ------- Duration: 139.6395 sec \n",
            "Video Title : How To Make An American Quilt Trailer 1995 ------- Duration: 145.39524999999998 sec \n",
            "Video Title : Se7en  (1995) - Trailer HD Remastered ------- Duration: 143.1013 sec \n",
            "Video Title : Pocahontas (1995) Trailer 2 (VHS Capture) ------- Duration: 118.27597728032075 sec \n",
            "Video Title : When Night is Falling (Unrated) Trailer ------- Duration: 141.6740121580547 sec \n",
            "Video Title : The Usual Suspects - Trailer ------- Duration: 153.65349999999998 sec \n",
            "Video Title : Guardian Angel (1994) trailer ------- Duration: 110.2 sec \n",
            "Video Title : Mighty Aphrodite Trailer 1995 ------- Duration: 27.994633333333333 sec \n"
          ],
          "name": "stdout"
        },
        {
          "output_type": "stream",
          "text": [
            "ERROR: This video is not available in your country due to a copyright claim by Medusa Film S.p.a and RTI Sp.A..\n"
          ],
          "name": "stderr"
        },
        {
          "output_type": "stream",
          "text": [
            "Pafy Get Wrong\n",
            "Video Title : The Big Green 1995 Trailer ------- Duration: 136.04 sec \n",
            "Video Title : The Big Green (1995) Trailer ------- Duration: 140.18170833333332 sec \n",
            "Video Title : Georgia - Trailer ------- Duration: 96.59649999999999 sec \n",
            "Video Title : Home For The Holidays Trailer 1995 ------- Duration: 182.34883333333332 sec \n",
            "Video Title : IL POSTINO TRAILER ------- Duration: 113.113 sec \n",
            "Video Title : The Indian In The Cupboard Trailer 1995 ------- Duration: 121.6215 sec \n",
            "Video Title : Eye for an Eye (1996) Trailer ------- Duration: 55.0 sec \n",
            "Video Title : Richard Dreyfuss in \"Mr Hollands Opus\" 1996 Movie Trailer ------- Duration: 63.07520891364902 sec \n",
            "Video Title : Don't Be a Menace to South Central While Drinking Your Juice in the Hood (1996) Official Trailer #1 ------- Duration: 91.00757777777778 sec \n",
            "Video Title : Two If By Sea ------- Duration: 116.08263333333333 sec \n",
            "Video Title : Bio-Dome Official Trailer #1 - Pauly Shore Movie (1996) HD ------- Duration: 152.5690833333333 sec \n",
            "Video Title : Lawnmower Man 2: Jobe's War Trailer 1995 ------- Duration: 106.02258333333333 sec \n"
          ],
          "name": "stdout"
        },
        {
          "output_type": "stream",
          "text": [
            "ERROR: Video unavailable\n"
          ],
          "name": "stderr"
        },
        {
          "output_type": "stream",
          "text": [
            "Video Title : Two Bits - Trailer ------- Duration: 138.09629166666664 sec \n",
            "Pafy Get Wrong\n",
            "Video Title : Friday (1995) Official Trailer - Ice Cube, Chris Tucker Comedy HD ------- Duration: 163.42993333333334 sec \n",
            "Video Title : From Dusk Till Dawn Official Trailer #1 - (1996) HD ------- Duration: 121.5801 sec \n",
            "Video Title : Official Trailer: From Dusk Till Dawn (1996) ------- Duration: 86.80779944289694 sec \n",
            "Video Title : Fair Game Trailer 1995 ------- Duration: 112.77933333333333 sec \n",
            "Video Title : Kicking And Screaming - Trailer ------- Duration: 99.39095833333333 sec \n",
            "Video Title : Les Miserables Trailer 1995 ------- Duration: 105.14670833333332 sec \n",
            "Video Title : Bed of Roses (1996) Trailer ------- Duration: 124.13333333333334 sec \n",
            "Video Title : Big Bully - Trailer ------- Duration: 95.06163333333333 sec \n",
            "Video Title : Screamers Trailer 1996 ------- Duration: 116.24066666666667 sec \n",
            "Video Title : The Crossing Guard (1995) Official Trailer 1 - Jack Nicholson Movie ------- Duration: 114.82303333333333 sec \n",
            "Video Title : The Juror (1996) Trailer ------- Duration: 128.86666666666667 sec \n",
            "Video Title : The White Balloon Trailer 1995 ------- Duration: 103.39495833333332 sec \n",
            "Video Title : Andy Garcia Things to do in Denver when you are dead ------- Duration: 114.5477 sec \n",
            "Video Title : Antonia's Line Trailer 1995 ------- Duration: 97.34724999999999 sec \n",
            "Video Title : Once Upon A Time, When We Were Colored Trailer 1996 ------- Duration: 135.88575 sec \n",
            "Video Title : Angels And Insects Trailer 1995 ------- Duration: 159.74291666666664 sec \n",
            "Video Title : White Squall ------- Duration: 91.96687499999999 sec \n",
            "Video Title : Dunston Checks In Trailer 1995 ------- Duration: 62.22883333333333 sec \n",
            "Video Title : Black Sheep 1996 Trailer ------- Duration: 146.2461 sec \n",
            "Video Title : Nick of Time - Trailer ------- Duration: 141.09929166666666 sec \n",
            "Video Title : John Malkovich - 1996 Mary Reilly Trailer ------- Duration: 134.06726666666668 sec \n",
            "Video Title : Vampire in Brooklyn - Trailer ------- Duration: 130.54708333333332 sec \n",
            "Video Title : Beautiful Girls - Trailer ------- Duration: 123.12299999999999 sec \n",
            "Video Title : Official Trailer: Broken Arrow (1996) ------- Duration: 148.10629166666666 sec \n",
            "Video Title : A Midwinter's Tale ( In the Bleak Midwinter ) Trailer ------- Duration: 92.29220000000001 sec \n",
            "Video Title : New trailer for La Haine - in UK cinemas from 11 September 2020 | BFI ------- Duration: 97.29166666666667 sec \n"
          ],
          "name": "stdout"
        },
        {
          "output_type": "stream",
          "text": [
            "ERROR: This video contains content from AdRevEnt_managed, who has blocked it on copyright grounds.\n"
          ],
          "name": "stderr"
        },
        {
          "output_type": "stream",
          "text": [
            "Pafy Get Wrong\n",
            "Video Title : Heidi Fleiss: Hollywood Madam ------- Duration: 67.8 sec \n",
            "Video Title : City Hall - Trailer ------- Duration: 124.0239 sec \n",
            "Pafy Get Wrong\n",
            "Video Title : Bottle Rocket (1996) Trailer #1 | Movieclips Classic Trailers ------- Duration: 173.04787499999998 sec \n"
          ],
          "name": "stdout"
        }
      ]
    },
    {
      "cell_type": "code",
      "metadata": {
        "id": "hP5gR8bfm0FE"
      },
      "source": [
        "#To Be Implemented"
      ],
      "execution_count": null,
      "outputs": []
    }
  ]
}